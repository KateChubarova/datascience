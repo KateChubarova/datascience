{
 "cells": [
  {
   "cell_type": "code",
   "execution_count": 51,
   "id": "7dc2f63e",
   "metadata": {},
   "outputs": [],
   "source": [
    "import numpy as np"
   ]
  },
  {
   "cell_type": "code",
   "execution_count": 52,
   "id": "adec911c",
   "metadata": {},
   "outputs": [],
   "source": [
    "import pandas as pd\n",
    "from catboost import CatBoostClassifier\n",
    "from sklearn.model_selection import train_test_split"
   ]
  },
  {
   "cell_type": "code",
   "execution_count": 53,
   "id": "5d50b98b",
   "metadata": {},
   "outputs": [],
   "source": [
    "from sklearn.metrics import confusion_matrix"
   ]
  },
  {
   "cell_type": "code",
   "execution_count": 125,
   "id": "f51b42bb",
   "metadata": {},
   "outputs": [],
   "source": [
    "class P4Metric(object):\n",
    "    def get_final_error(self, error, weight):\n",
    "        return error / (weight + 1e-38)\n",
    "\n",
    "    def is_max_optimal(self):\n",
    "        return True\n",
    "\n",
    "    def evaluate(self, approxes, target, weight):\n",
    "        assert len(approxes) == 1\n",
    "        assert len(target) == len(approxes[0])\n",
    "        probabilities = np.exp(approxes)/(1+np.exp(approxes))\n",
    "        probabilities = np.where(probabilities[0] > 0.5, 1, 0)\n",
    "        tn, fp, fn, tp = confusion_matrix(probabilities, target).ravel()\n",
    "        p4 = (4*tp*tn)/(4*tp*tn+(tp+tn)*(fp+fn))\n",
    "        return p4,1"
   ]
  },
  {
   "cell_type": "code",
   "execution_count": 126,
   "id": "9632d93f",
   "metadata": {},
   "outputs": [
    {
     "name": "stdout",
     "output_type": "stream",
     "text": [
      "Learning rate set to 0.036983\n",
      "0:\tlearn: 0.0000000\ttest: 0.0000000\tbest: 0.0000000 (0)\ttotal: 59.1ms\tremaining: 59s\n",
      "50:\tlearn: 0.6618212\ttest: 0.5148397\tbest: 0.5148397 (50)\ttotal: 185ms\tremaining: 3.44s\n"
     ]
    },
    {
     "name": "stderr",
     "output_type": "stream",
     "text": [
      "/usr/local/Caskroom/miniforge/base/lib/python3.10/site-packages/catboost/core.py:1723: UserWarning: Failed to optimize method \"evaluate\" in the passed object:\n",
      "Failed in nopython mode pipeline (step: nopython frontend)\n",
      "\u001b[1mUntyped global name 'confusion_matrix':\u001b[0m \u001b[1m\u001b[1mCannot determine Numba type of <class 'function'>\u001b[0m\n",
      "\u001b[1m\n",
      "File \"../../../../var/folders/_p/4hq1c0jd5sx1r6kpx11fy4ph0000gn/T/ipykernel_19045/454810000.py\", line 13:\u001b[0m\n",
      "\u001b[1m<source missing, REPL/exec in use?>\u001b[0m\n",
      "\u001b[0m\n",
      "  self._object._train(train_pool, test_pool, params, allow_clear_pool, init_model._object if init_model else None)\n"
     ]
    },
    {
     "name": "stdout",
     "output_type": "stream",
     "text": [
      "100:\tlearn: 0.8116578\ttest: 0.5942377\tbest: 0.5989402 (92)\ttotal: 309ms\tremaining: 2.75s\n",
      "150:\tlearn: 0.8649428\ttest: 0.6610884\tbest: 0.6610884 (145)\ttotal: 431ms\tremaining: 2.42s\n",
      "200:\tlearn: 0.8952646\ttest: 0.6438122\tbest: 0.6779758 (178)\ttotal: 553ms\tremaining: 2.2s\n",
      "250:\tlearn: 0.9362061\ttest: 0.6305286\tbest: 0.6779758 (178)\ttotal: 677ms\tremaining: 2.02s\n",
      "Stopped by overfitting detector  (100 iterations wait)\n",
      "\n",
      "bestTest = 0.6779758482\n",
      "bestIteration = 178\n",
      "\n",
      "Shrink model to first 179 iterations.\n"
     ]
    },
    {
     "data": {
      "text/plain": [
       "<catboost.core.CatBoostClassifier at 0x13f7a19c0>"
      ]
     },
     "execution_count": 126,
     "metadata": {},
     "output_type": "execute_result"
    }
   ],
   "source": [
    "rides_info = pd.read_csv('CB_bin_target_data.csv')\n",
    "cat_cols = ['car_type', 'fuel_type', 'model']\n",
    "X = rides_info.drop(['target_bin'], axis=1)\n",
    "y = rides_info['target_bin']\n",
    "\n",
    "X_train, X_test, y_train, y_test = train_test_split(X, y, test_size=0.2, random_state=42)\n",
    "\n",
    "model = CatBoostClassifier(random_state=42,\n",
    "                           cat_features=cat_cols,\n",
    "                           eval_metric=P4Metric())\n",
    "\n",
    "model.fit(X_train, y_train, \n",
    "          eval_set=(X_test, y_test),\n",
    "          verbose=50, plot=False, \n",
    "          early_stopping_rounds=100)"
   ]
  },
  {
   "cell_type": "code",
   "execution_count": 56,
   "id": "a48e287c",
   "metadata": {},
   "outputs": [],
   "source": [
    "import numpy as np"
   ]
  },
  {
   "cell_type": "code",
   "execution_count": 50,
   "id": "5f544a11",
   "metadata": {},
   "outputs": [
    {
     "data": {
      "text/plain": [
       "array([[2, 0, 0],\n",
       "       [0, 0, 1],\n",
       "       [1, 0, 2]])"
      ]
     },
     "execution_count": 50,
     "metadata": {},
     "output_type": "execute_result"
    }
   ],
   "source": [
    "from sklearn.metrics import confusion_matrix\n",
    "y_true = [2, 0, 2, 2, 0, 1]\n",
    "y_pred = [0, 0, 2, 2, 0, 2]\n",
    "confusion_matrix(y_true, y_pred)"
   ]
  },
  {
   "cell_type": "code",
   "execution_count": null,
   "id": "60052b6f",
   "metadata": {},
   "outputs": [],
   "source": []
  }
 ],
 "metadata": {
  "kernelspec": {
   "display_name": "Python 3 (ipykernel)",
   "language": "python",
   "name": "python3"
  },
  "language_info": {
   "codemirror_mode": {
    "name": "ipython",
    "version": 3
   },
   "file_extension": ".py",
   "mimetype": "text/x-python",
   "name": "python",
   "nbconvert_exporter": "python",
   "pygments_lexer": "ipython3",
   "version": "3.10.10"
  }
 },
 "nbformat": 4,
 "nbformat_minor": 5
}
