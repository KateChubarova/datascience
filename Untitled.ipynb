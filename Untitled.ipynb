{
 "cells": [
  {
   "cell_type": "code",
   "execution_count": 1,
   "id": "e673c051",
   "metadata": {},
   "outputs": [
    {
     "name": "stdout",
     "output_type": "stream",
     "text": [
      "Intel MKL WARNING: Support of Intel(R) Streaming SIMD Extensions 4.2 (Intel(R) SSE4.2) enabled only processors has been deprecated. Intel oneAPI Math Kernel Library 2025.0 will require Intel(R) Advanced Vector Extensions (Intel(R) AVX) instructions.\n",
      "Intel MKL WARNING: Support of Intel(R) Streaming SIMD Extensions 4.2 (Intel(R) SSE4.2) enabled only processors has been deprecated. Intel oneAPI Math Kernel Library 2025.0 will require Intel(R) Advanced Vector Extensions (Intel(R) AVX) instructions.\n"
     ]
    }
   ],
   "source": [
    "import pandas as pd\n",
    "\n",
    "df1 = pd.read_csv('https://stepik.org/media/attachments/lesson/681964/2.2.6_df1.csv', index_col=0)\n",
    "df2 = pd.read_csv('https://stepik.org/media/attachments/lesson/681964/2.2.6_df2.csv', index_col=0)\n",
    "\n",
    "# Учтите, что user_white_list и car_black_list в тестовой системе будут иметь другую длину и другие значения\n",
    "user_white_list = ['g10995906g', 'H90312511Q', 'C27138482L', 'H22518078t', 'n17438464n', 'F10525768e', 's15596151o', 'i18954748S', 'E84048392U', 'E69893354s']\n",
    "car_black_list = ['l-4285389z', 'n79502261g', 'N-1839822D']\n",
    "\n",
    "# В ans содержится правильный ответ. Перед отправкой своего решения, сравнитесь с ним.\n",
    "ans = pd.read_csv('https://stepik.org/media/attachments/lesson/681964/2_2_6_ans.csv', index_col=0)"
   ]
  },
  {
   "cell_type": "code",
   "execution_count": 155,
   "id": "8b2f6b7e",
   "metadata": {},
   "outputs": [
    {
     "data": {
      "text/plain": [
       "720"
      ]
     },
     "execution_count": 155,
     "metadata": {},
     "output_type": "execute_result"
    }
   ],
   "source": [
    "df1.head()\n",
    "df1.size"
   ]
  },
  {
   "cell_type": "code",
   "execution_count": 156,
   "id": "cd94791f",
   "metadata": {},
   "outputs": [
    {
     "data": {
      "text/plain": [
       "480"
      ]
     },
     "execution_count": 156,
     "metadata": {},
     "output_type": "execute_result"
    }
   ],
   "source": [
    "df2.head()\n",
    "df2.size"
   ]
  },
  {
   "cell_type": "code",
   "execution_count": 157,
   "id": "e7dcde9c",
   "metadata": {},
   "outputs": [],
   "source": [
    "df3 = pd.concat([df1, df2])"
   ]
  },
  {
   "cell_type": "code",
   "execution_count": 158,
   "id": "2e4e6025",
   "metadata": {},
   "outputs": [
    {
     "data": {
      "text/plain": [
       "1200"
      ]
     },
     "execution_count": 158,
     "metadata": {},
     "output_type": "execute_result"
    }
   ],
   "source": [
    "df3.head()\n",
    "df3.size"
   ]
  },
  {
   "cell_type": "code",
   "execution_count": 159,
   "id": "4c843e1d",
   "metadata": {},
   "outputs": [],
   "source": [
    "mask1 = df3.stop_times.isin([2,3,5])\n",
    "mask2 = df3.rating > 4\n",
    "df3 = df3[mask1 & mask2] "
   ]
  },
  {
   "cell_type": "code",
   "execution_count": 160,
   "id": "42ec3111",
   "metadata": {},
   "outputs": [
    {
     "data": {
      "text/plain": [
       "156"
      ]
     },
     "execution_count": 160,
     "metadata": {},
     "output_type": "execute_result"
    }
   ],
   "source": [
    "df3.head()\n",
    "df3.size"
   ]
  },
  {
   "cell_type": "code",
   "execution_count": 161,
   "id": "db8ccc09",
   "metadata": {},
   "outputs": [
    {
     "data": {
      "text/plain": [
       "['l-4285389z', 'n79502261g', 'N-1839822D']"
      ]
     },
     "execution_count": 161,
     "metadata": {},
     "output_type": "execute_result"
    }
   ],
   "source": [
    "car_black_list"
   ]
  },
  {
   "cell_type": "code",
   "execution_count": 162,
   "id": "4b1e4175",
   "metadata": {},
   "outputs": [
    {
     "data": {
      "text/plain": [
       "['g10995906g',\n",
       " 'H90312511Q',\n",
       " 'C27138482L',\n",
       " 'H22518078t',\n",
       " 'n17438464n',\n",
       " 'F10525768e',\n",
       " 's15596151o',\n",
       " 'i18954748S',\n",
       " 'E84048392U',\n",
       " 'E69893354s']"
      ]
     },
     "execution_count": 162,
     "metadata": {},
     "output_type": "execute_result"
    }
   ],
   "source": [
    "user_white_list"
   ]
  },
  {
   "cell_type": "code",
   "execution_count": 163,
   "id": "1cebe9ac",
   "metadata": {},
   "outputs": [],
   "source": [
    "mask3 = df3.user_id.isin(user_white_list)\n",
    "mask4 = df3.car_id.isin(car_black_list)"
   ]
  },
  {
   "cell_type": "code",
   "execution_count": 164,
   "id": "f985e682",
   "metadata": {},
   "outputs": [],
   "source": [
    "df3 = df3[mask3]"
   ]
  },
  {
   "cell_type": "code",
   "execution_count": 165,
   "id": "6b04a013",
   "metadata": {},
   "outputs": [
    {
     "data": {
      "text/plain": [
       "16"
      ]
     },
     "execution_count": 165,
     "metadata": {},
     "output_type": "execute_result"
    }
   ],
   "source": [
    "df3.size"
   ]
  },
  {
   "cell_type": "code",
   "execution_count": 166,
   "id": "71162f57",
   "metadata": {},
   "outputs": [
    {
     "name": "stderr",
     "output_type": "stream",
     "text": [
      "/var/folders/_p/4hq1c0jd5sx1r6kpx11fy4ph0000gn/T/ipykernel_9273/3838806687.py:1: UserWarning: Boolean Series key will be reindexed to match DataFrame index.\n",
      "  df3 = df3[~mask4]\n"
     ]
    }
   ],
   "source": [
    "df3 = df3[~mask4]"
   ]
  },
  {
   "cell_type": "code",
   "execution_count": 167,
   "id": "065a590c",
   "metadata": {},
   "outputs": [
    {
     "data": {
      "text/plain": [
       "16"
      ]
     },
     "execution_count": 167,
     "metadata": {},
     "output_type": "execute_result"
    }
   ],
   "source": [
    "df3.size"
   ]
  },
  {
   "cell_type": "code",
   "execution_count": 168,
   "id": "5c0ff43f",
   "metadata": {},
   "outputs": [
    {
     "data": {
      "text/plain": [
       "(4, 4)"
      ]
     },
     "execution_count": 168,
     "metadata": {},
     "output_type": "execute_result"
    }
   ],
   "source": [
    "df3.shape"
   ]
  },
  {
   "cell_type": "code",
   "execution_count": 169,
   "id": "cc0e06c1",
   "metadata": {},
   "outputs": [
    {
     "data": {
      "text/html": [
       "<div>\n",
       "<style scoped>\n",
       "    .dataframe tbody tr th:only-of-type {\n",
       "        vertical-align: middle;\n",
       "    }\n",
       "\n",
       "    .dataframe tbody tr th {\n",
       "        vertical-align: top;\n",
       "    }\n",
       "\n",
       "    .dataframe thead th {\n",
       "        text-align: right;\n",
       "    }\n",
       "</style>\n",
       "<table border=\"1\" class=\"dataframe\">\n",
       "  <thead>\n",
       "    <tr style=\"text-align: right;\">\n",
       "      <th></th>\n",
       "      <th>user_id</th>\n",
       "      <th>car_id</th>\n",
       "      <th>rating</th>\n",
       "      <th>stop_times</th>\n",
       "    </tr>\n",
       "  </thead>\n",
       "  <tbody>\n",
       "    <tr>\n",
       "      <th>20</th>\n",
       "      <td>C27138482L</td>\n",
       "      <td>M-1786506l</td>\n",
       "      <td>7.42</td>\n",
       "      <td>2</td>\n",
       "    </tr>\n",
       "    <tr>\n",
       "      <th>43</th>\n",
       "      <td>H22518078t</td>\n",
       "      <td>H72631192M</td>\n",
       "      <td>5.47</td>\n",
       "      <td>2</td>\n",
       "    </tr>\n",
       "    <tr>\n",
       "      <th>190</th>\n",
       "      <td>F10525768e</td>\n",
       "      <td>I98930031r</td>\n",
       "      <td>4.21</td>\n",
       "      <td>2</td>\n",
       "    </tr>\n",
       "    <tr>\n",
       "      <th>248</th>\n",
       "      <td>s15596151o</td>\n",
       "      <td>u-2070489i</td>\n",
       "      <td>5.39</td>\n",
       "      <td>2</td>\n",
       "    </tr>\n",
       "  </tbody>\n",
       "</table>\n",
       "</div>"
      ],
      "text/plain": [
       "        user_id      car_id  rating  stop_times\n",
       "20   C27138482L  M-1786506l    7.42           2\n",
       "43   H22518078t  H72631192M    5.47           2\n",
       "190  F10525768e  I98930031r    4.21           2\n",
       "248  s15596151o  u-2070489i    5.39           2"
      ]
     },
     "execution_count": 169,
     "metadata": {},
     "output_type": "execute_result"
    }
   ],
   "source": [
    "df3"
   ]
  },
  {
   "cell_type": "code",
   "execution_count": 180,
   "id": "95d47a1a",
   "metadata": {},
   "outputs": [],
   "source": [
    "mask5 = (df3.index%2 == 0)"
   ]
  },
  {
   "cell_type": "code",
   "execution_count": 182,
   "id": "cec3e279",
   "metadata": {},
   "outputs": [],
   "source": [
    "df3 = df3[mask5].head()"
   ]
  },
  {
   "cell_type": "code",
   "execution_count": 183,
   "id": "ea68cdbe",
   "metadata": {},
   "outputs": [
    {
     "data": {
      "text/html": [
       "<div>\n",
       "<style scoped>\n",
       "    .dataframe tbody tr th:only-of-type {\n",
       "        vertical-align: middle;\n",
       "    }\n",
       "\n",
       "    .dataframe tbody tr th {\n",
       "        vertical-align: top;\n",
       "    }\n",
       "\n",
       "    .dataframe thead th {\n",
       "        text-align: right;\n",
       "    }\n",
       "</style>\n",
       "<table border=\"1\" class=\"dataframe\">\n",
       "  <thead>\n",
       "    <tr style=\"text-align: right;\">\n",
       "      <th></th>\n",
       "      <th>user_id</th>\n",
       "      <th>car_id</th>\n",
       "      <th>rating</th>\n",
       "      <th>stop_times</th>\n",
       "    </tr>\n",
       "  </thead>\n",
       "  <tbody>\n",
       "    <tr>\n",
       "      <th>20</th>\n",
       "      <td>C27138482L</td>\n",
       "      <td>M-1786506l</td>\n",
       "      <td>7.42</td>\n",
       "      <td>2</td>\n",
       "    </tr>\n",
       "    <tr>\n",
       "      <th>190</th>\n",
       "      <td>F10525768e</td>\n",
       "      <td>I98930031r</td>\n",
       "      <td>4.21</td>\n",
       "      <td>2</td>\n",
       "    </tr>\n",
       "    <tr>\n",
       "      <th>248</th>\n",
       "      <td>s15596151o</td>\n",
       "      <td>u-2070489i</td>\n",
       "      <td>5.39</td>\n",
       "      <td>2</td>\n",
       "    </tr>\n",
       "  </tbody>\n",
       "</table>\n",
       "</div>"
      ],
      "text/plain": [
       "        user_id      car_id  rating  stop_times\n",
       "20   C27138482L  M-1786506l    7.42           2\n",
       "190  F10525768e  I98930031r    4.21           2\n",
       "248  s15596151o  u-2070489i    5.39           2"
      ]
     },
     "execution_count": 183,
     "metadata": {},
     "output_type": "execute_result"
    }
   ],
   "source": [
    "df3"
   ]
  },
  {
   "cell_type": "code",
   "execution_count": 184,
   "id": "b9c5142f",
   "metadata": {},
   "outputs": [],
   "source": [
    "result = df3"
   ]
  },
  {
   "cell_type": "code",
   "execution_count": 185,
   "id": "a2d7431c",
   "metadata": {},
   "outputs": [
    {
     "data": {
      "text/html": [
       "<div>\n",
       "<style scoped>\n",
       "    .dataframe tbody tr th:only-of-type {\n",
       "        vertical-align: middle;\n",
       "    }\n",
       "\n",
       "    .dataframe tbody tr th {\n",
       "        vertical-align: top;\n",
       "    }\n",
       "\n",
       "    .dataframe thead th {\n",
       "        text-align: right;\n",
       "    }\n",
       "</style>\n",
       "<table border=\"1\" class=\"dataframe\">\n",
       "  <thead>\n",
       "    <tr style=\"text-align: right;\">\n",
       "      <th></th>\n",
       "      <th>user_id</th>\n",
       "      <th>car_id</th>\n",
       "      <th>rating</th>\n",
       "      <th>stop_times</th>\n",
       "    </tr>\n",
       "  </thead>\n",
       "  <tbody>\n",
       "    <tr>\n",
       "      <th>20</th>\n",
       "      <td>C27138482L</td>\n",
       "      <td>M-1786506l</td>\n",
       "      <td>7.42</td>\n",
       "      <td>2</td>\n",
       "    </tr>\n",
       "    <tr>\n",
       "      <th>190</th>\n",
       "      <td>F10525768e</td>\n",
       "      <td>I98930031r</td>\n",
       "      <td>4.21</td>\n",
       "      <td>2</td>\n",
       "    </tr>\n",
       "    <tr>\n",
       "      <th>248</th>\n",
       "      <td>s15596151o</td>\n",
       "      <td>u-2070489i</td>\n",
       "      <td>5.39</td>\n",
       "      <td>2</td>\n",
       "    </tr>\n",
       "  </tbody>\n",
       "</table>\n",
       "</div>"
      ],
      "text/plain": [
       "        user_id      car_id  rating  stop_times\n",
       "20   C27138482L  M-1786506l    7.42           2\n",
       "190  F10525768e  I98930031r    4.21           2\n",
       "248  s15596151o  u-2070489i    5.39           2"
      ]
     },
     "execution_count": 185,
     "metadata": {},
     "output_type": "execute_result"
    }
   ],
   "source": [
    "ans"
   ]
  },
  {
   "cell_type": "code",
   "execution_count": 191,
   "id": "57760c3e",
   "metadata": {},
   "outputs": [],
   "source": [
    "df4 = pd.read_csv('https://raw.githubusercontent.com/a-milenkin/Competitive_Data_Science/main/data/driver_info.csv',\n",
    "                  )"
   ]
  },
  {
   "cell_type": "code",
   "execution_count": 192,
   "id": "6acc218a",
   "metadata": {},
   "outputs": [
    {
     "data": {
      "text/html": [
       "<div>\n",
       "<style scoped>\n",
       "    .dataframe tbody tr th:only-of-type {\n",
       "        vertical-align: middle;\n",
       "    }\n",
       "\n",
       "    .dataframe tbody tr th {\n",
       "        vertical-align: top;\n",
       "    }\n",
       "\n",
       "    .dataframe thead th {\n",
       "        text-align: right;\n",
       "    }\n",
       "</style>\n",
       "<table border=\"1\" class=\"dataframe\">\n",
       "  <thead>\n",
       "    <tr style=\"text-align: right;\">\n",
       "      <th></th>\n",
       "      <th>age</th>\n",
       "      <th>user_rating</th>\n",
       "      <th>user_rides</th>\n",
       "      <th>user_time_accident</th>\n",
       "      <th>user_id</th>\n",
       "      <th>sex</th>\n",
       "      <th>first_ride_date</th>\n",
       "    </tr>\n",
       "  </thead>\n",
       "  <tbody>\n",
       "    <tr>\n",
       "      <th>0</th>\n",
       "      <td>27</td>\n",
       "      <td>9.0</td>\n",
       "      <td>865</td>\n",
       "      <td>19.0</td>\n",
       "      <td>l17437965W</td>\n",
       "      <td>1</td>\n",
       "      <td>2019-4-2</td>\n",
       "    </tr>\n",
       "    <tr>\n",
       "      <th>1</th>\n",
       "      <td>46</td>\n",
       "      <td>7.9</td>\n",
       "      <td>2116</td>\n",
       "      <td>11.0</td>\n",
       "      <td>Z12362316j</td>\n",
       "      <td>0</td>\n",
       "      <td>2021-11-19</td>\n",
       "    </tr>\n",
       "    <tr>\n",
       "      <th>2</th>\n",
       "      <td>59</td>\n",
       "      <td>7.8</td>\n",
       "      <td>947</td>\n",
       "      <td>4.0</td>\n",
       "      <td>g11098715c</td>\n",
       "      <td>0</td>\n",
       "      <td>2021-1-15</td>\n",
       "    </tr>\n",
       "    <tr>\n",
       "      <th>3</th>\n",
       "      <td>37</td>\n",
       "      <td>7.0</td>\n",
       "      <td>18</td>\n",
       "      <td>4.0</td>\n",
       "      <td>U12618125q</td>\n",
       "      <td>0</td>\n",
       "      <td>2019-11-20</td>\n",
       "    </tr>\n",
       "    <tr>\n",
       "      <th>4</th>\n",
       "      <td>39</td>\n",
       "      <td>8.2</td>\n",
       "      <td>428</td>\n",
       "      <td>7.0</td>\n",
       "      <td>A14375829B</td>\n",
       "      <td>0</td>\n",
       "      <td>2019-7-23</td>\n",
       "    </tr>\n",
       "    <tr>\n",
       "      <th>...</th>\n",
       "      <td>...</td>\n",
       "      <td>...</td>\n",
       "      <td>...</td>\n",
       "      <td>...</td>\n",
       "      <td>...</td>\n",
       "      <td>...</td>\n",
       "      <td>...</td>\n",
       "    </tr>\n",
       "    <tr>\n",
       "      <th>15148</th>\n",
       "      <td>19</td>\n",
       "      <td>7.9</td>\n",
       "      <td>52</td>\n",
       "      <td>12.0</td>\n",
       "      <td>R13807707w</td>\n",
       "      <td>1</td>\n",
       "      <td>2019-12-1</td>\n",
       "    </tr>\n",
       "    <tr>\n",
       "      <th>15149</th>\n",
       "      <td>40</td>\n",
       "      <td>7.6</td>\n",
       "      <td>1142</td>\n",
       "      <td>3.0</td>\n",
       "      <td>F86199947G</td>\n",
       "      <td>0</td>\n",
       "      <td>2019-1-18</td>\n",
       "    </tr>\n",
       "    <tr>\n",
       "      <th>15150</th>\n",
       "      <td>27</td>\n",
       "      <td>7.9</td>\n",
       "      <td>1280</td>\n",
       "      <td>3.0</td>\n",
       "      <td>O10119419p</td>\n",
       "      <td>1</td>\n",
       "      <td>2018-9-16</td>\n",
       "    </tr>\n",
       "    <tr>\n",
       "      <th>15151</th>\n",
       "      <td>30</td>\n",
       "      <td>7.9</td>\n",
       "      <td>31</td>\n",
       "      <td>5.0</td>\n",
       "      <td>B35483077Y</td>\n",
       "      <td>0</td>\n",
       "      <td>2019-11-23</td>\n",
       "    </tr>\n",
       "    <tr>\n",
       "      <th>15152</th>\n",
       "      <td>18</td>\n",
       "      <td>7.8</td>\n",
       "      <td>83</td>\n",
       "      <td>0.0</td>\n",
       "      <td>S19178709w</td>\n",
       "      <td>1</td>\n",
       "      <td>2019-10-23</td>\n",
       "    </tr>\n",
       "  </tbody>\n",
       "</table>\n",
       "<p>15153 rows × 7 columns</p>\n",
       "</div>"
      ],
      "text/plain": [
       "       age  user_rating  user_rides  user_time_accident     user_id  sex  \\\n",
       "0       27          9.0         865                19.0  l17437965W    1   \n",
       "1       46          7.9        2116                11.0  Z12362316j    0   \n",
       "2       59          7.8         947                 4.0  g11098715c    0   \n",
       "3       37          7.0          18                 4.0  U12618125q    0   \n",
       "4       39          8.2         428                 7.0  A14375829B    0   \n",
       "...    ...          ...         ...                 ...         ...  ...   \n",
       "15148   19          7.9          52                12.0  R13807707w    1   \n",
       "15149   40          7.6        1142                 3.0  F86199947G    0   \n",
       "15150   27          7.9        1280                 3.0  O10119419p    1   \n",
       "15151   30          7.9          31                 5.0  B35483077Y    0   \n",
       "15152   18          7.8          83                 0.0  S19178709w    1   \n",
       "\n",
       "      first_ride_date  \n",
       "0            2019-4-2  \n",
       "1          2021-11-19  \n",
       "2           2021-1-15  \n",
       "3          2019-11-20  \n",
       "4           2019-7-23  \n",
       "...               ...  \n",
       "15148       2019-12-1  \n",
       "15149       2019-1-18  \n",
       "15150       2018-9-16  \n",
       "15151      2019-11-23  \n",
       "15152      2019-10-23  \n",
       "\n",
       "[15153 rows x 7 columns]"
      ]
     },
     "execution_count": 192,
     "metadata": {},
     "output_type": "execute_result"
    }
   ],
   "source": [
    "df4"
   ]
  },
  {
   "cell_type": "code",
   "execution_count": 195,
   "id": "3a703877",
   "metadata": {},
   "outputs": [],
   "source": [
    "mask6 = df4.age<40"
   ]
  },
  {
   "cell_type": "code",
   "execution_count": 198,
   "id": "0dac8a34",
   "metadata": {},
   "outputs": [],
   "source": [
    "mask7 = (df4.user_time_accident > 4.5) & (df4.user_time_accident <= 9)"
   ]
  },
  {
   "cell_type": "code",
   "execution_count": 199,
   "id": "203f6240",
   "metadata": {},
   "outputs": [],
   "source": [
    "df4 = df4[mask6 & mask7]"
   ]
  },
  {
   "cell_type": "code",
   "execution_count": 201,
   "id": "04c7527c",
   "metadata": {},
   "outputs": [
    {
     "data": {
      "text/plain": [
       "(2478, 7)"
      ]
     },
     "execution_count": 201,
     "metadata": {},
     "output_type": "execute_result"
    }
   ],
   "source": [
    "df4.shape"
   ]
  },
  {
   "cell_type": "code",
   "execution_count": 202,
   "id": "b793fcf4",
   "metadata": {},
   "outputs": [],
   "source": [
    "import pandas as pd\n",
    "\n",
    "df5 = pd.read_csv('https://stepik.org/media/attachments/lesson/681964/2_2_8.csv')\n",
    "\n",
    "# В ans содержится правильный ответ. Перед отправкой своего решения, сравнитесь с ним.\n",
    "ans2 = pd.read_csv('https://stepik.org/media/attachments/lesson/681964/2_2_8_ans.csv', index_col=0)"
   ]
  },
  {
   "cell_type": "code",
   "execution_count": 203,
   "id": "ff34def6",
   "metadata": {},
   "outputs": [
    {
     "data": {
      "text/html": [
       "<div>\n",
       "<style scoped>\n",
       "    .dataframe tbody tr th:only-of-type {\n",
       "        vertical-align: middle;\n",
       "    }\n",
       "\n",
       "    .dataframe tbody tr th {\n",
       "        vertical-align: top;\n",
       "    }\n",
       "\n",
       "    .dataframe thead th {\n",
       "        text-align: right;\n",
       "    }\n",
       "</style>\n",
       "<table border=\"1\" class=\"dataframe\">\n",
       "  <thead>\n",
       "    <tr style=\"text-align: right;\">\n",
       "      <th></th>\n",
       "      <th>user_id</th>\n",
       "      <th>user_rating</th>\n",
       "      <th>age</th>\n",
       "      <th>user_rides</th>\n",
       "      <th>user_time_accident</th>\n",
       "    </tr>\n",
       "  </thead>\n",
       "  <tbody>\n",
       "    <tr>\n",
       "      <th>0</th>\n",
       "      <td>f59331553m</td>\n",
       "      <td>7.7</td>\n",
       "      <td>29</td>\n",
       "      <td>99</td>\n",
       "      <td>4.0</td>\n",
       "    </tr>\n",
       "    <tr>\n",
       "      <th>1</th>\n",
       "      <td>H50364497o</td>\n",
       "      <td>7.8</td>\n",
       "      <td>26</td>\n",
       "      <td>121</td>\n",
       "      <td>0.0</td>\n",
       "    </tr>\n",
       "    <tr>\n",
       "      <th>2</th>\n",
       "      <td>A14869258v</td>\n",
       "      <td>7.3</td>\n",
       "      <td>34</td>\n",
       "      <td>557</td>\n",
       "      <td>2.0</td>\n",
       "    </tr>\n",
       "    <tr>\n",
       "      <th>3</th>\n",
       "      <td>E10711310m</td>\n",
       "      <td>8.4</td>\n",
       "      <td>33</td>\n",
       "      <td>322</td>\n",
       "      <td>39.0</td>\n",
       "    </tr>\n",
       "    <tr>\n",
       "      <th>4</th>\n",
       "      <td>i54390205y</td>\n",
       "      <td>8.7</td>\n",
       "      <td>18</td>\n",
       "      <td>59</td>\n",
       "      <td>22.0</td>\n",
       "    </tr>\n",
       "    <tr>\n",
       "      <th>...</th>\n",
       "      <td>...</td>\n",
       "      <td>...</td>\n",
       "      <td>...</td>\n",
       "      <td>...</td>\n",
       "      <td>...</td>\n",
       "    </tr>\n",
       "    <tr>\n",
       "      <th>95</th>\n",
       "      <td>f43739690G</td>\n",
       "      <td>8.0</td>\n",
       "      <td>25</td>\n",
       "      <td>357</td>\n",
       "      <td>10.0</td>\n",
       "    </tr>\n",
       "    <tr>\n",
       "      <th>96</th>\n",
       "      <td>h51181620d</td>\n",
       "      <td>7.2</td>\n",
       "      <td>22</td>\n",
       "      <td>1421</td>\n",
       "      <td>13.0</td>\n",
       "    </tr>\n",
       "    <tr>\n",
       "      <th>97</th>\n",
       "      <td>l15352881X</td>\n",
       "      <td>8.0</td>\n",
       "      <td>25</td>\n",
       "      <td>2</td>\n",
       "      <td>14.0</td>\n",
       "    </tr>\n",
       "    <tr>\n",
       "      <th>98</th>\n",
       "      <td>k83620654u</td>\n",
       "      <td>8.5</td>\n",
       "      <td>27</td>\n",
       "      <td>156</td>\n",
       "      <td>5.0</td>\n",
       "    </tr>\n",
       "    <tr>\n",
       "      <th>99</th>\n",
       "      <td>u47521230x</td>\n",
       "      <td>8.9</td>\n",
       "      <td>18</td>\n",
       "      <td>951</td>\n",
       "      <td>8.0</td>\n",
       "    </tr>\n",
       "  </tbody>\n",
       "</table>\n",
       "<p>100 rows × 5 columns</p>\n",
       "</div>"
      ],
      "text/plain": [
       "       user_id  user_rating  age  user_rides  user_time_accident\n",
       "0   f59331553m          7.7   29          99                 4.0\n",
       "1   H50364497o          7.8   26         121                 0.0\n",
       "2   A14869258v          7.3   34         557                 2.0\n",
       "3   E10711310m          8.4   33         322                39.0\n",
       "4   i54390205y          8.7   18          59                22.0\n",
       "..         ...          ...  ...         ...                 ...\n",
       "95  f43739690G          8.0   25         357                10.0\n",
       "96  h51181620d          7.2   22        1421                13.0\n",
       "97  l15352881X          8.0   25           2                14.0\n",
       "98  k83620654u          8.5   27         156                 5.0\n",
       "99  u47521230x          8.9   18         951                 8.0\n",
       "\n",
       "[100 rows x 5 columns]"
      ]
     },
     "execution_count": 203,
     "metadata": {},
     "output_type": "execute_result"
    }
   ],
   "source": [
    "df5"
   ]
  },
  {
   "cell_type": "code",
   "execution_count": null,
   "id": "9fd670eb",
   "metadata": {},
   "outputs": [],
   "source": [
    "df5['']"
   ]
  }
 ],
 "metadata": {
  "kernelspec": {
   "display_name": "Python 3 (ipykernel)",
   "language": "python",
   "name": "python3"
  },
  "language_info": {
   "codemirror_mode": {
    "name": "ipython",
    "version": 3
   },
   "file_extension": ".py",
   "mimetype": "text/x-python",
   "name": "python",
   "nbconvert_exporter": "python",
   "pygments_lexer": "ipython3",
   "version": "3.10.10"
  }
 },
 "nbformat": 4,
 "nbformat_minor": 5
}
