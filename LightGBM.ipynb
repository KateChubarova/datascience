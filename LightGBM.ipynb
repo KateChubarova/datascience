{
 "cells": [
  {
   "cell_type": "code",
   "execution_count": 7,
   "id": "ca3575c3",
   "metadata": {},
   "outputs": [],
   "source": [
    "import numpy as np"
   ]
  },
  {
   "cell_type": "code",
   "execution_count": 26,
   "id": "88c81271",
   "metadata": {},
   "outputs": [],
   "source": [
    "def generate_lr_list(start:float, stop:float, iterations:int, step:int)->list():\n",
    "    generated_lr = []\n",
    "    num_integer, num_remainder = iterations//step, iterations%step\n",
    "\n",
    "    for i in np.linspace(start, stop, num_integer+(1 if num_remainder>0 else 0)): \n",
    "        for j in range(step):\n",
    "            if (len(generated_lr) == iterations): \n",
    "                return generated_lr\n",
    "            generated_lr.append(i)\n",
    "    return generated_lr"
   ]
  },
  {
   "cell_type": "code",
   "execution_count": 27,
   "id": "56e80200",
   "metadata": {},
   "outputs": [
    {
     "data": {
      "text/plain": [
       "[1.0, 1.0, 1.0, 0.7, 0.7, 0.7, 0.4, 0.4, 0.4, 0.1]"
      ]
     },
     "execution_count": 27,
     "metadata": {},
     "output_type": "execute_result"
    }
   ],
   "source": [
    "generate_lr_list(1, 0.1, 10, 3)"
   ]
  },
  {
   "cell_type": "code",
   "execution_count": 28,
   "id": "77b40fd5",
   "metadata": {},
   "outputs": [],
   "source": [
    "import pandas as pd"
   ]
  },
  {
   "cell_type": "code",
   "execution_count": 29,
   "id": "79ea5b44",
   "metadata": {},
   "outputs": [],
   "source": [
    "data = pd.read_csv('https://raw.githubusercontent.com/a-milenkin/Competitive_Data_Science/main/data/car_train.csv')"
   ]
  },
  {
   "cell_type": "code",
   "execution_count": 30,
   "id": "4acec8d2",
   "metadata": {},
   "outputs": [
    {
     "data": {
      "text/html": [
       "<div>\n",
       "<style scoped>\n",
       "    .dataframe tbody tr th:only-of-type {\n",
       "        vertical-align: middle;\n",
       "    }\n",
       "\n",
       "    .dataframe tbody tr th {\n",
       "        vertical-align: top;\n",
       "    }\n",
       "\n",
       "    .dataframe thead th {\n",
       "        text-align: right;\n",
       "    }\n",
       "</style>\n",
       "<table border=\"1\" class=\"dataframe\">\n",
       "  <thead>\n",
       "    <tr style=\"text-align: right;\">\n",
       "      <th></th>\n",
       "      <th>car_id</th>\n",
       "      <th>model</th>\n",
       "      <th>car_type</th>\n",
       "      <th>fuel_type</th>\n",
       "      <th>car_rating</th>\n",
       "      <th>year_to_start</th>\n",
       "      <th>riders</th>\n",
       "      <th>year_to_work</th>\n",
       "      <th>target_reg</th>\n",
       "      <th>target_class</th>\n",
       "    </tr>\n",
       "  </thead>\n",
       "  <tbody>\n",
       "    <tr>\n",
       "      <th>0</th>\n",
       "      <td>y13744087j</td>\n",
       "      <td>Kia Rio X-line</td>\n",
       "      <td>economy</td>\n",
       "      <td>petrol</td>\n",
       "      <td>3.78</td>\n",
       "      <td>2015</td>\n",
       "      <td>76163</td>\n",
       "      <td>2021</td>\n",
       "      <td>108.53</td>\n",
       "      <td>another_bug</td>\n",
       "    </tr>\n",
       "    <tr>\n",
       "      <th>1</th>\n",
       "      <td>O41613818T</td>\n",
       "      <td>VW Polo VI</td>\n",
       "      <td>economy</td>\n",
       "      <td>petrol</td>\n",
       "      <td>3.90</td>\n",
       "      <td>2015</td>\n",
       "      <td>78218</td>\n",
       "      <td>2021</td>\n",
       "      <td>35.20</td>\n",
       "      <td>electro_bug</td>\n",
       "    </tr>\n",
       "    <tr>\n",
       "      <th>2</th>\n",
       "      <td>d-2109686j</td>\n",
       "      <td>Renault Sandero</td>\n",
       "      <td>standart</td>\n",
       "      <td>petrol</td>\n",
       "      <td>6.30</td>\n",
       "      <td>2012</td>\n",
       "      <td>23340</td>\n",
       "      <td>2017</td>\n",
       "      <td>38.62</td>\n",
       "      <td>gear_stick</td>\n",
       "    </tr>\n",
       "    <tr>\n",
       "      <th>3</th>\n",
       "      <td>u29695600e</td>\n",
       "      <td>Mercedes-Benz GLC</td>\n",
       "      <td>business</td>\n",
       "      <td>petrol</td>\n",
       "      <td>4.04</td>\n",
       "      <td>2011</td>\n",
       "      <td>1263</td>\n",
       "      <td>2020</td>\n",
       "      <td>30.34</td>\n",
       "      <td>engine_fuel</td>\n",
       "    </tr>\n",
       "    <tr>\n",
       "      <th>4</th>\n",
       "      <td>N-8915870N</td>\n",
       "      <td>Renault Sandero</td>\n",
       "      <td>standart</td>\n",
       "      <td>petrol</td>\n",
       "      <td>4.70</td>\n",
       "      <td>2012</td>\n",
       "      <td>26428</td>\n",
       "      <td>2017</td>\n",
       "      <td>30.45</td>\n",
       "      <td>engine_fuel</td>\n",
       "    </tr>\n",
       "    <tr>\n",
       "      <th>...</th>\n",
       "      <td>...</td>\n",
       "      <td>...</td>\n",
       "      <td>...</td>\n",
       "      <td>...</td>\n",
       "      <td>...</td>\n",
       "      <td>...</td>\n",
       "      <td>...</td>\n",
       "      <td>...</td>\n",
       "      <td>...</td>\n",
       "      <td>...</td>\n",
       "    </tr>\n",
       "    <tr>\n",
       "      <th>2332</th>\n",
       "      <td>j21246192N</td>\n",
       "      <td>Smart ForFour</td>\n",
       "      <td>economy</td>\n",
       "      <td>petrol</td>\n",
       "      <td>4.38</td>\n",
       "      <td>2017</td>\n",
       "      <td>121239</td>\n",
       "      <td>2018</td>\n",
       "      <td>25.48</td>\n",
       "      <td>wheel_shake</td>\n",
       "    </tr>\n",
       "    <tr>\n",
       "      <th>2333</th>\n",
       "      <td>h-1554287F</td>\n",
       "      <td>Audi A4</td>\n",
       "      <td>premium</td>\n",
       "      <td>petrol</td>\n",
       "      <td>4.30</td>\n",
       "      <td>2016</td>\n",
       "      <td>107793</td>\n",
       "      <td>2020</td>\n",
       "      <td>69.26</td>\n",
       "      <td>engine_check</td>\n",
       "    </tr>\n",
       "    <tr>\n",
       "      <th>2334</th>\n",
       "      <td>A15262612g</td>\n",
       "      <td>Kia Rio</td>\n",
       "      <td>economy</td>\n",
       "      <td>petrol</td>\n",
       "      <td>3.88</td>\n",
       "      <td>2015</td>\n",
       "      <td>80234</td>\n",
       "      <td>2019</td>\n",
       "      <td>46.03</td>\n",
       "      <td>gear_stick</td>\n",
       "    </tr>\n",
       "    <tr>\n",
       "      <th>2335</th>\n",
       "      <td>W-2514493U</td>\n",
       "      <td>Renault Sandero</td>\n",
       "      <td>standart</td>\n",
       "      <td>petrol</td>\n",
       "      <td>4.50</td>\n",
       "      <td>2014</td>\n",
       "      <td>60048</td>\n",
       "      <td>2020</td>\n",
       "      <td>77.19</td>\n",
       "      <td>another_bug</td>\n",
       "    </tr>\n",
       "    <tr>\n",
       "      <th>2336</th>\n",
       "      <td>z-1337463D</td>\n",
       "      <td>VW Polo</td>\n",
       "      <td>economy</td>\n",
       "      <td>petrol</td>\n",
       "      <td>3.94</td>\n",
       "      <td>2015</td>\n",
       "      <td>92312</td>\n",
       "      <td>2016</td>\n",
       "      <td>54.68</td>\n",
       "      <td>engine_check</td>\n",
       "    </tr>\n",
       "  </tbody>\n",
       "</table>\n",
       "<p>2337 rows × 10 columns</p>\n",
       "</div>"
      ],
      "text/plain": [
       "          car_id              model  car_type fuel_type  car_rating  \\\n",
       "0     y13744087j     Kia Rio X-line   economy    petrol        3.78   \n",
       "1     O41613818T         VW Polo VI   economy    petrol        3.90   \n",
       "2     d-2109686j    Renault Sandero  standart    petrol        6.30   \n",
       "3     u29695600e  Mercedes-Benz GLC  business    petrol        4.04   \n",
       "4     N-8915870N    Renault Sandero  standart    petrol        4.70   \n",
       "...          ...                ...       ...       ...         ...   \n",
       "2332  j21246192N      Smart ForFour   economy    petrol        4.38   \n",
       "2333  h-1554287F            Audi A4   premium    petrol        4.30   \n",
       "2334  A15262612g            Kia Rio   economy    petrol        3.88   \n",
       "2335  W-2514493U    Renault Sandero  standart    petrol        4.50   \n",
       "2336  z-1337463D            VW Polo   economy    petrol        3.94   \n",
       "\n",
       "      year_to_start  riders  year_to_work  target_reg  target_class  \n",
       "0              2015   76163          2021      108.53   another_bug  \n",
       "1              2015   78218          2021       35.20   electro_bug  \n",
       "2              2012   23340          2017       38.62    gear_stick  \n",
       "3              2011    1263          2020       30.34   engine_fuel  \n",
       "4              2012   26428          2017       30.45   engine_fuel  \n",
       "...             ...     ...           ...         ...           ...  \n",
       "2332           2017  121239          2018       25.48   wheel_shake  \n",
       "2333           2016  107793          2020       69.26  engine_check  \n",
       "2334           2015   80234          2019       46.03    gear_stick  \n",
       "2335           2014   60048          2020       77.19   another_bug  \n",
       "2336           2015   92312          2016       54.68  engine_check  \n",
       "\n",
       "[2337 rows x 10 columns]"
      ]
     },
     "execution_count": 30,
     "metadata": {},
     "output_type": "execute_result"
    }
   ],
   "source": [
    "data"
   ]
  },
  {
   "cell_type": "code",
   "execution_count": 31,
   "id": "3fe704ab",
   "metadata": {},
   "outputs": [],
   "source": [
    "t = data['target_reg']"
   ]
  },
  {
   "cell_type": "code",
   "execution_count": 32,
   "id": "75344e30",
   "metadata": {},
   "outputs": [
    {
     "data": {
      "text/plain": [
       "0       108.53\n",
       "1        35.20\n",
       "2        38.62\n",
       "3        30.34\n",
       "4        30.45\n",
       "         ...  \n",
       "2332     25.48\n",
       "2333     69.26\n",
       "2334     46.03\n",
       "2335     77.19\n",
       "2336     54.68\n",
       "Name: target_reg, Length: 2337, dtype: float64"
      ]
     },
     "execution_count": 32,
     "metadata": {},
     "output_type": "execute_result"
    }
   ],
   "source": [
    "t"
   ]
  },
  {
   "cell_type": "code",
   "execution_count": 33,
   "id": "77809536",
   "metadata": {},
   "outputs": [],
   "source": [
    "from scipy import special"
   ]
  },
  {
   "cell_type": "code",
   "execution_count": 34,
   "id": "41e81c97",
   "metadata": {},
   "outputs": [],
   "source": [
    "def custom_l2_loss(y, data):\n",
    "    t = data.get_label()\n",
    "    p = special.expit(y)\n",
    "    grad = p - y\n",
    "    hess = p * (1 - p)\n",
    "    return grad, hess"
   ]
  },
  {
   "cell_type": "code",
   "execution_count": null,
   "id": "485b18e2",
   "metadata": {},
   "outputs": [],
   "source": [
    "np.log1p(column) "
   ]
  },
  {
   "cell_type": "code",
   "execution_count": 36,
   "id": "f7ea102c",
   "metadata": {},
   "outputs": [],
   "source": [
    "def custom_rmsle_eval(predictions, dmat):\n",
    "    labels = dmat.get_label()\n",
    "    n = len(labels)\n",
    "    log_sum = 0\n",
    "    for i in range(n):\n",
    "        log_sum = log_sum + (np.log1p(predictions) - np.log1p(labels))**2\n",
    "    \n",
    "    rmsle = (log_sum/n)**0.5\n",
    "    return 'RMSLE', rmsle"
   ]
  },
  {
   "cell_type": "markdown",
   "id": "9a8cbf23",
   "metadata": {},
   "source": [
    "L'(y, p) = sinh(p - y) / cosh(p - y) = tanh(p - y)"
   ]
  },
  {
   "cell_type": "markdown",
   "id": "b9cb334d",
   "metadata": {},
   "source": [
    "L''(y, p) = 1 - tanh^2(p - y) = 1/cosh^2(p - y)"
   ]
  }
 ],
 "metadata": {
  "kernelspec": {
   "display_name": "Python 3 (ipykernel)",
   "language": "python",
   "name": "python3"
  },
  "language_info": {
   "codemirror_mode": {
    "name": "ipython",
    "version": 3
   },
   "file_extension": ".py",
   "mimetype": "text/x-python",
   "name": "python",
   "nbconvert_exporter": "python",
   "pygments_lexer": "ipython3",
   "version": "3.10.10"
  }
 },
 "nbformat": 4,
 "nbformat_minor": 5
}
