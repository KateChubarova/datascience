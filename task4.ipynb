{
 "cells": [
  {
   "cell_type": "code",
   "execution_count": 1,
   "id": "987818f3",
   "metadata": {},
   "outputs": [],
   "source": [
    "import pandas as pd\n",
    "\n",
    "df = pd.read_csv('https://stepik.org/media/attachments/lesson/681964/2.2.11.csv')\n",
    "\n",
    "# Учтите, что sort_by_list, cols2drop, columns_order_list в тестовой системе будут иметь другие значения.\n",
    "sort_by_list = ['car_rating', 'riders']\n",
    "cols2drop = ['random_name_1', 'target_reg', 'target_class', 'random_name_2']\n",
    "columns_order_list = ['model', 'car_type', 'car_id', 'car_rating', 'year_to_start', 'year_to_work', 'riders', 'fuel_type']\n",
    "critical_car_rating = 2\n",
    "\n",
    "# В ans содержится правильный ответ. Перед отправкой своего решения, сравнитесь с ним.\n",
    "ans = pd.read_csv('https://stepik.org/media/attachments/lesson/681964/2_2_11_ans.csv', index_col=0)"
   ]
  },
  {
   "cell_type": "code",
   "execution_count": 2,
   "id": "7869940c",
   "metadata": {},
   "outputs": [
    {
     "data": {
      "text/html": [
       "<div>\n",
       "<style scoped>\n",
       "    .dataframe tbody tr th:only-of-type {\n",
       "        vertical-align: middle;\n",
       "    }\n",
       "\n",
       "    .dataframe tbody tr th {\n",
       "        vertical-align: top;\n",
       "    }\n",
       "\n",
       "    .dataframe thead th {\n",
       "        text-align: right;\n",
       "    }\n",
       "</style>\n",
       "<table border=\"1\" class=\"dataframe\">\n",
       "  <thead>\n",
       "    <tr style=\"text-align: right;\">\n",
       "      <th></th>\n",
       "      <th>car_id</th>\n",
       "      <th>model</th>\n",
       "      <th>car_type</th>\n",
       "      <th>fuel_type</th>\n",
       "      <th>car_rating</th>\n",
       "      <th>year_to_start</th>\n",
       "      <th>riders</th>\n",
       "      <th>year_to_work</th>\n",
       "      <th>target_reg</th>\n",
       "      <th>target_class</th>\n",
       "    </tr>\n",
       "  </thead>\n",
       "  <tbody>\n",
       "    <tr>\n",
       "      <th>0</th>\n",
       "      <td>s-9164758n</td>\n",
       "      <td>Renault Kaptur</td>\n",
       "      <td>standart</td>\n",
       "      <td>petrol</td>\n",
       "      <td>3.76</td>\n",
       "      <td>2012</td>\n",
       "      <td>31867</td>\n",
       "      <td>2018</td>\n",
       "      <td>35.622685</td>\n",
       "      <td>engine_overheat</td>\n",
       "    </tr>\n",
       "    <tr>\n",
       "      <th>1</th>\n",
       "      <td>I-7194770x</td>\n",
       "      <td>Smart ForTwo</td>\n",
       "      <td>economy</td>\n",
       "      <td>petrol</td>\n",
       "      <td>4.08</td>\n",
       "      <td>2014</td>\n",
       "      <td>55325</td>\n",
       "      <td>2015</td>\n",
       "      <td>30.378960</td>\n",
       "      <td>electro_bug</td>\n",
       "    </tr>\n",
       "    <tr>\n",
       "      <th>2</th>\n",
       "      <td>k63904133P</td>\n",
       "      <td>Smart ForFour</td>\n",
       "      <td>economy</td>\n",
       "      <td>petrol</td>\n",
       "      <td>4.54</td>\n",
       "      <td>2015</td>\n",
       "      <td>76585</td>\n",
       "      <td>2018</td>\n",
       "      <td>64.757579</td>\n",
       "      <td>another_bug</td>\n",
       "    </tr>\n",
       "    <tr>\n",
       "      <th>3</th>\n",
       "      <td>H-4546747T</td>\n",
       "      <td>Kia Rio X</td>\n",
       "      <td>economy</td>\n",
       "      <td>petrol</td>\n",
       "      <td>4.68</td>\n",
       "      <td>2015</td>\n",
       "      <td>73109</td>\n",
       "      <td>2017</td>\n",
       "      <td>47.623089</td>\n",
       "      <td>engine_check</td>\n",
       "    </tr>\n",
       "    <tr>\n",
       "      <th>4</th>\n",
       "      <td>i-4390733F</td>\n",
       "      <td>Mini Cooper</td>\n",
       "      <td>business</td>\n",
       "      <td>petrol</td>\n",
       "      <td>4.96</td>\n",
       "      <td>2012</td>\n",
       "      <td>1007</td>\n",
       "      <td>2018</td>\n",
       "      <td>81.469055</td>\n",
       "      <td>engine_check</td>\n",
       "    </tr>\n",
       "    <tr>\n",
       "      <th>...</th>\n",
       "      <td>...</td>\n",
       "      <td>...</td>\n",
       "      <td>...</td>\n",
       "      <td>...</td>\n",
       "      <td>...</td>\n",
       "      <td>...</td>\n",
       "      <td>...</td>\n",
       "      <td>...</td>\n",
       "      <td>...</td>\n",
       "      <td>...</td>\n",
       "    </tr>\n",
       "    <tr>\n",
       "      <th>295</th>\n",
       "      <td>b34607341j</td>\n",
       "      <td>Mini Cooper</td>\n",
       "      <td>business</td>\n",
       "      <td>petrol</td>\n",
       "      <td>4.04</td>\n",
       "      <td>2011</td>\n",
       "      <td>2740</td>\n",
       "      <td>2018</td>\n",
       "      <td>74.385234</td>\n",
       "      <td>engine_check</td>\n",
       "    </tr>\n",
       "    <tr>\n",
       "      <th>296</th>\n",
       "      <td>m21172670I</td>\n",
       "      <td>VW Polo</td>\n",
       "      <td>economy</td>\n",
       "      <td>petrol</td>\n",
       "      <td>4.32</td>\n",
       "      <td>2012</td>\n",
       "      <td>23824</td>\n",
       "      <td>2021</td>\n",
       "      <td>29.409693</td>\n",
       "      <td>gear_stick</td>\n",
       "    </tr>\n",
       "    <tr>\n",
       "      <th>297</th>\n",
       "      <td>R15925847J</td>\n",
       "      <td>VW Polo VI</td>\n",
       "      <td>economy</td>\n",
       "      <td>petrol</td>\n",
       "      <td>4.00</td>\n",
       "      <td>2014</td>\n",
       "      <td>58472</td>\n",
       "      <td>2019</td>\n",
       "      <td>33.686305</td>\n",
       "      <td>break_bug</td>\n",
       "    </tr>\n",
       "    <tr>\n",
       "      <th>298</th>\n",
       "      <td>c-7401486X</td>\n",
       "      <td>Renault Sandero</td>\n",
       "      <td>standart</td>\n",
       "      <td>petrol</td>\n",
       "      <td>4.62</td>\n",
       "      <td>2014</td>\n",
       "      <td>66362</td>\n",
       "      <td>2017</td>\n",
       "      <td>45.349326</td>\n",
       "      <td>gear_stick</td>\n",
       "    </tr>\n",
       "    <tr>\n",
       "      <th>299</th>\n",
       "      <td>f17350995b</td>\n",
       "      <td>VW Polo VI</td>\n",
       "      <td>economy</td>\n",
       "      <td>petrol</td>\n",
       "      <td>4.00</td>\n",
       "      <td>2015</td>\n",
       "      <td>78534</td>\n",
       "      <td>2020</td>\n",
       "      <td>64.119233</td>\n",
       "      <td>engine_ignition</td>\n",
       "    </tr>\n",
       "  </tbody>\n",
       "</table>\n",
       "<p>300 rows × 10 columns</p>\n",
       "</div>"
      ],
      "text/plain": [
       "         car_id            model  car_type fuel_type  car_rating  \\\n",
       "0    s-9164758n   Renault Kaptur  standart    petrol        3.76   \n",
       "1    I-7194770x     Smart ForTwo   economy    petrol        4.08   \n",
       "2    k63904133P    Smart ForFour   economy    petrol        4.54   \n",
       "3    H-4546747T        Kia Rio X   economy    petrol        4.68   \n",
       "4    i-4390733F      Mini Cooper  business    petrol        4.96   \n",
       "..          ...              ...       ...       ...         ...   \n",
       "295  b34607341j      Mini Cooper  business    petrol        4.04   \n",
       "296  m21172670I          VW Polo   economy    petrol        4.32   \n",
       "297  R15925847J       VW Polo VI   economy    petrol        4.00   \n",
       "298  c-7401486X  Renault Sandero  standart    petrol        4.62   \n",
       "299  f17350995b       VW Polo VI   economy    petrol        4.00   \n",
       "\n",
       "     year_to_start  riders  year_to_work  target_reg     target_class  \n",
       "0             2012   31867          2018   35.622685  engine_overheat  \n",
       "1             2014   55325          2015   30.378960      electro_bug  \n",
       "2             2015   76585          2018   64.757579      another_bug  \n",
       "3             2015   73109          2017   47.623089     engine_check  \n",
       "4             2012    1007          2018   81.469055     engine_check  \n",
       "..             ...     ...           ...         ...              ...  \n",
       "295           2011    2740          2018   74.385234     engine_check  \n",
       "296           2012   23824          2021   29.409693       gear_stick  \n",
       "297           2014   58472          2019   33.686305        break_bug  \n",
       "298           2014   66362          2017   45.349326       gear_stick  \n",
       "299           2015   78534          2020   64.119233  engine_ignition  \n",
       "\n",
       "[300 rows x 10 columns]"
      ]
     },
     "execution_count": 2,
     "metadata": {},
     "output_type": "execute_result"
    }
   ],
   "source": [
    "df"
   ]
  },
  {
   "cell_type": "code",
   "execution_count": 3,
   "id": "39902dde",
   "metadata": {},
   "outputs": [],
   "source": [
    "df.sort_values(by=sort_by_list, ascending=[False, True], inplace=True)"
   ]
  },
  {
   "cell_type": "code",
   "execution_count": 4,
   "id": "41af98eb",
   "metadata": {},
   "outputs": [
    {
     "data": {
      "text/plain": [
       "['random_name_1', 'target_reg', 'target_class', 'random_name_2']"
      ]
     },
     "execution_count": 4,
     "metadata": {},
     "output_type": "execute_result"
    }
   ],
   "source": [
    "cols2drop"
   ]
  },
  {
   "cell_type": "code",
   "execution_count": 5,
   "id": "dfca45ab",
   "metadata": {},
   "outputs": [
    {
     "data": {
      "text/plain": [
       "['car_id',\n",
       " 'model',\n",
       " 'car_type',\n",
       " 'fuel_type',\n",
       " 'car_rating',\n",
       " 'year_to_start',\n",
       " 'riders',\n",
       " 'year_to_work',\n",
       " 'target_reg',\n",
       " 'target_class']"
      ]
     },
     "execution_count": 5,
     "metadata": {},
     "output_type": "execute_result"
    }
   ],
   "source": [
    "df.columns.tolist()"
   ]
  },
  {
   "cell_type": "code",
   "execution_count": 6,
   "id": "94ef613f",
   "metadata": {},
   "outputs": [],
   "source": [
    "colsToDrop = list(set(cols2drop) & set(df.columns.tolist()))"
   ]
  },
  {
   "cell_type": "code",
   "execution_count": 7,
   "id": "0f40acc3",
   "metadata": {},
   "outputs": [
    {
     "data": {
      "text/plain": [
       "['target_class', 'target_reg']"
      ]
     },
     "execution_count": 7,
     "metadata": {},
     "output_type": "execute_result"
    }
   ],
   "source": [
    "colsToDrop"
   ]
  },
  {
   "cell_type": "code",
   "execution_count": 8,
   "id": "301da77a",
   "metadata": {},
   "outputs": [],
   "source": [
    "df.drop(colsToDrop, axis=1, inplace=True)"
   ]
  },
  {
   "cell_type": "code",
   "execution_count": 9,
   "id": "1c43ab2e",
   "metadata": {},
   "outputs": [],
   "source": [
    "df = df.reindex(columns=columns_order_list)"
   ]
  },
  {
   "cell_type": "code",
   "execution_count": 10,
   "id": "f8268112",
   "metadata": {},
   "outputs": [
    {
     "data": {
      "text/plain": [
       "Index([267], dtype='int64')"
      ]
     },
     "execution_count": 10,
     "metadata": {},
     "output_type": "execute_result"
    }
   ],
   "source": [
    "df[df.car_rating<critical_car_rating].index"
   ]
  },
  {
   "cell_type": "code",
   "execution_count": 11,
   "id": "3c4c62a1",
   "metadata": {},
   "outputs": [],
   "source": [
    "df.drop(df[df.car_rating<critical_car_rating].index, axis=0, inplace=True)"
   ]
  },
  {
   "cell_type": "code",
   "execution_count": 12,
   "id": "aa2fff8e",
   "metadata": {},
   "outputs": [],
   "source": [
    "mask1 = df.riders > 10000"
   ]
  },
  {
   "cell_type": "code",
   "execution_count": 13,
   "id": "2a370cfa",
   "metadata": {},
   "outputs": [],
   "source": [
    "mask2 = df.car_type.isin(['standart', 'economy'])"
   ]
  },
  {
   "cell_type": "code",
   "execution_count": 14,
   "id": "fa6c31ba",
   "metadata": {},
   "outputs": [],
   "source": [
    "indexes2Drop = df[(mask1) | (mask2)].index"
   ]
  },
  {
   "cell_type": "code",
   "execution_count": 15,
   "id": "7a1fefa0",
   "metadata": {},
   "outputs": [
    {
     "data": {
      "text/plain": [
       "Index([ 40,   9,  11,   5, 183,  25, 191,  63,  41,  17,\n",
       "       ...\n",
       "       123, 200,  89, 176, 163, 249, 117,  47, 271, 131],\n",
       "      dtype='int64', length=297)"
      ]
     },
     "execution_count": 15,
     "metadata": {},
     "output_type": "execute_result"
    }
   ],
   "source": [
    "indexes2Drop"
   ]
  },
  {
   "cell_type": "code",
   "execution_count": 16,
   "id": "1aa4214d",
   "metadata": {},
   "outputs": [],
   "source": [
    "df.drop(indexes2Drop, axis=0, inplace=True)"
   ]
  },
  {
   "cell_type": "code",
   "execution_count": 17,
   "id": "16b40f2c",
   "metadata": {},
   "outputs": [
    {
     "data": {
      "text/html": [
       "<div>\n",
       "<style scoped>\n",
       "    .dataframe tbody tr th:only-of-type {\n",
       "        vertical-align: middle;\n",
       "    }\n",
       "\n",
       "    .dataframe tbody tr th {\n",
       "        vertical-align: top;\n",
       "    }\n",
       "\n",
       "    .dataframe thead th {\n",
       "        text-align: right;\n",
       "    }\n",
       "</style>\n",
       "<table border=\"1\" class=\"dataframe\">\n",
       "  <thead>\n",
       "    <tr style=\"text-align: right;\">\n",
       "      <th></th>\n",
       "      <th>model</th>\n",
       "      <th>car_type</th>\n",
       "      <th>car_id</th>\n",
       "      <th>car_rating</th>\n",
       "      <th>year_to_start</th>\n",
       "      <th>year_to_work</th>\n",
       "      <th>riders</th>\n",
       "      <th>fuel_type</th>\n",
       "    </tr>\n",
       "  </thead>\n",
       "  <tbody>\n",
       "    <tr>\n",
       "      <th>4</th>\n",
       "      <td>Mini Cooper</td>\n",
       "      <td>business</td>\n",
       "      <td>i-4390733F</td>\n",
       "      <td>4.96</td>\n",
       "      <td>2012</td>\n",
       "      <td>2018</td>\n",
       "      <td>1007</td>\n",
       "      <td>petrol</td>\n",
       "    </tr>\n",
       "    <tr>\n",
       "      <th>295</th>\n",
       "      <td>Mini Cooper</td>\n",
       "      <td>business</td>\n",
       "      <td>b34607341j</td>\n",
       "      <td>4.04</td>\n",
       "      <td>2011</td>\n",
       "      <td>2018</td>\n",
       "      <td>2740</td>\n",
       "      <td>petrol</td>\n",
       "    </tr>\n",
       "  </tbody>\n",
       "</table>\n",
       "</div>"
      ],
      "text/plain": [
       "           model  car_type      car_id  car_rating  year_to_start  \\\n",
       "4    Mini Cooper  business  i-4390733F        4.96           2012   \n",
       "295  Mini Cooper  business  b34607341j        4.04           2011   \n",
       "\n",
       "     year_to_work  riders fuel_type  \n",
       "4            2018    1007    petrol  \n",
       "295          2018    2740    petrol  "
      ]
     },
     "execution_count": 17,
     "metadata": {},
     "output_type": "execute_result"
    }
   ],
   "source": [
    "df"
   ]
  },
  {
   "cell_type": "code",
   "execution_count": 18,
   "id": "37869d08",
   "metadata": {},
   "outputs": [
    {
     "data": {
      "text/html": [
       "<div>\n",
       "<style scoped>\n",
       "    .dataframe tbody tr th:only-of-type {\n",
       "        vertical-align: middle;\n",
       "    }\n",
       "\n",
       "    .dataframe tbody tr th {\n",
       "        vertical-align: top;\n",
       "    }\n",
       "\n",
       "    .dataframe thead th {\n",
       "        text-align: right;\n",
       "    }\n",
       "</style>\n",
       "<table border=\"1\" class=\"dataframe\">\n",
       "  <thead>\n",
       "    <tr style=\"text-align: right;\">\n",
       "      <th></th>\n",
       "      <th>model</th>\n",
       "      <th>car_type</th>\n",
       "      <th>car_id</th>\n",
       "      <th>car_rating</th>\n",
       "      <th>year_to_start</th>\n",
       "      <th>year_to_work</th>\n",
       "      <th>riders</th>\n",
       "      <th>fuel_type</th>\n",
       "    </tr>\n",
       "  </thead>\n",
       "  <tbody>\n",
       "    <tr>\n",
       "      <th>4</th>\n",
       "      <td>Mini Cooper</td>\n",
       "      <td>business</td>\n",
       "      <td>i-4390733F</td>\n",
       "      <td>4.96</td>\n",
       "      <td>2012</td>\n",
       "      <td>2018</td>\n",
       "      <td>1007</td>\n",
       "      <td>petrol</td>\n",
       "    </tr>\n",
       "    <tr>\n",
       "      <th>295</th>\n",
       "      <td>Mini Cooper</td>\n",
       "      <td>business</td>\n",
       "      <td>b34607341j</td>\n",
       "      <td>4.04</td>\n",
       "      <td>2011</td>\n",
       "      <td>2018</td>\n",
       "      <td>2740</td>\n",
       "      <td>petrol</td>\n",
       "    </tr>\n",
       "  </tbody>\n",
       "</table>\n",
       "</div>"
      ],
      "text/plain": [
       "           model  car_type      car_id  car_rating  year_to_start  \\\n",
       "4    Mini Cooper  business  i-4390733F        4.96           2012   \n",
       "295  Mini Cooper  business  b34607341j        4.04           2011   \n",
       "\n",
       "     year_to_work  riders fuel_type  \n",
       "4            2018    1007    petrol  \n",
       "295          2018    2740    petrol  "
      ]
     },
     "execution_count": 18,
     "metadata": {},
     "output_type": "execute_result"
    }
   ],
   "source": [
    "ans"
   ]
  },
  {
   "cell_type": "code",
   "execution_count": null,
   "id": "b74395fa",
   "metadata": {},
   "outputs": [],
   "source": []
  }
 ],
 "metadata": {
  "kernelspec": {
   "display_name": "Python 3 (ipykernel)",
   "language": "python",
   "name": "python3"
  },
  "language_info": {
   "codemirror_mode": {
    "name": "ipython",
    "version": 3
   },
   "file_extension": ".py",
   "mimetype": "text/x-python",
   "name": "python",
   "nbconvert_exporter": "python",
   "pygments_lexer": "ipython3",
   "version": "3.10.10"
  }
 },
 "nbformat": 4,
 "nbformat_minor": 5
}
